{
 "cells": [
  {
   "cell_type": "code",
   "execution_count": 1,
   "metadata": {},
   "outputs": [
    {
     "name": "stdout",
     "output_type": "stream",
     "text": [
      "[2, 3, 81, 29, 0, 341, 2]\n"
     ]
    }
   ],
   "source": [
    "# 1\n",
    "numbers = [int(i) for i in input(\"Вводите список чисел через пробел: \").split()]\n",
    "new_numbers = []\n",
    "\n",
    "for i in numbers:\n",
    "  if i == min(numbers):\n",
    "    new_numbers.append(max(numbers))\n",
    "  elif i == max(numbers):\n",
    "    new_numbers.append(min(numbers))\n",
    "  else:\n",
    "    new_numbers.append(i)\n",
    "\n",
    "print(new_numbers)"
   ]
  },
  {
   "cell_type": "code",
   "execution_count": 2,
   "metadata": {},
   "outputs": [
    {
     "name": "stdout",
     "output_type": "stream",
     "text": [
      "['2', '4', '3', '6', '5', '7']\n"
     ]
    }
   ],
   "source": [
    "# 2\n",
    "symbols = input().split()\n",
    "\n",
    "new_symbols = [symbols[i] for i in range(0, len(symbols), 2)]\n",
    "for i in range(1, len(symbols), 2):\n",
    "  new_symbols.insert(i - 1, symbols[i])\n",
    "\n",
    "print(new_symbols)"
   ]
  },
  {
   "cell_type": "code",
   "execution_count": 4,
   "metadata": {},
   "outputs": [
    {
     "name": "stdout",
     "output_type": "stream",
     "text": [
      "Номер Пети в строю: 4\n"
     ]
    }
   ],
   "source": [
    "# 3\n",
    "students = []\n",
    "ptr = 0\n",
    "\n",
    "while not len(students):\n",
    "  try:\n",
    "    students = [int(i) for i in input(\"Введите рост учеников через пробел (должны быть не выше 200): \").split()]\n",
    "  except ValueError:\n",
    "    print(\"Введите числовое значение\")\n",
    "  for i in students:\n",
    "    if i > 200:\n",
    "      print(\"Все значения должны быть меньше 200, попробуйте снова\")\n",
    "      students.clear()\n",
    "\n",
    "while not ptr:\n",
    "  try:\n",
    "    ptr = int(input(\"Введите рост Пети: \"))\n",
    "  except ValueError:\n",
    "    print(\"Введите числовое значение\")\n",
    "  if ptr > 200:\n",
    "    print(\"Значение должно быть числовым и не больше 200, попробуйте снова\")\n",
    "    ptr = 0\n",
    "\n",
    "k = 1\n",
    "for i in sorted(students, reverse=True):\n",
    "  if ptr <= i:\n",
    "    k += 1\n",
    "\n",
    "print(f\"Номер Пети в строю: {k}\")"
   ]
  },
  {
   "cell_type": "code",
   "execution_count": 5,
   "metadata": {},
   "outputs": [
    {
     "name": "stdout",
     "output_type": "stream",
     "text": [
      "YES\n"
     ]
    }
   ],
   "source": [
    "# 4\n",
    "def is_check(arg1, arg2):\n",
    "  return arg1[0] == arg2[0] or arg1[1] == arg2[1] or abs(arg1[0] - arg2[0]) == abs(arg1[1] - arg2[1])\n",
    "\n",
    "queens = []\n",
    "res_04 = 'NO'\n",
    "\n",
    "for q in range(1, 9):\n",
    "  queen = [int(elem) for elem in input(f\"Введите пару чисел от 1 до 8 через пробел (положение ферзя {q}): \").split()]\n",
    "  queens.append(queen)\n",
    "\n",
    "for i in range(7):\n",
    "  for j in range(i + 1, 8):\n",
    "    if is_check(queens[i], queens[j]):\n",
    "      res_04 = 'YES'\n",
    "\n",
    "print(res_04)"
   ]
  },
  {
   "cell_type": "code",
   "execution_count": 6,
   "metadata": {},
   "outputs": [
    {
     "name": "stdout",
     "output_type": "stream",
     "text": [
      "[0, True, 'r', 7, 'nan', '7', 98, '=chess']\n"
     ]
    }
   ],
   "source": [
    "# 5\n",
    "elements = [0, True, 'r', 7, 'nan', '7', 98,'=chess', 98, 'r', 98]\n",
    "\n",
    "i = 1\n",
    "while i < len(elements):\n",
    "  if elements[-i] in elements[:-i]:\n",
    "    del elements[-i]\n",
    "  else:\n",
    "    i += 1\n",
    "\n",
    "print(elements)"
   ]
  },
  {
   "cell_type": "code",
   "execution_count": 7,
   "metadata": {},
   "outputs": [],
   "source": [
    "# 6 -\n",
    "n = int(input(\"Введите количество повторов: \"))\n",
    "values = input(\"Введите список значений через пробел: \").split()\n",
    "\n",
    "for v in values:\n",
    "  if values.count(v) == n:\n",
    "    while values.count(v) > 0:\n",
    "      values.remove(v)\n",
    "\n",
    "print(values)"
   ]
  },
  {
   "cell_type": "code",
   "execution_count": null,
   "metadata": {},
   "outputs": [],
   "source": [
    "# 7 -"
   ]
  },
  {
   "cell_type": "code",
   "execution_count": 9,
   "metadata": {},
   "outputs": [
    {
     "name": "stdout",
     "output_type": "stream",
     "text": [
      "0.020166635513305664\n",
      "[0, True, 'r', 98, 7, '=chess', '7', 'nan']\n"
     ]
    }
   ],
   "source": [
    "# 8 -\n",
    "import time\n",
    "\n",
    "t = time.time()\n",
    "some_elements = [0, True, 'r', 7, 'nan', '7', 98,'=chess', 98, 'r', 98] * 100000\n",
    "some_elements = list(set(some_elements))\n",
    "\n",
    "print(time.time() - t)\n",
    "print(some_elements[:30])"
   ]
  },
  {
   "cell_type": "code",
   "execution_count": null,
   "metadata": {},
   "outputs": [],
   "source": [
    "# 9 -"
   ]
  },
  {
   "cell_type": "code",
   "execution_count": 10,
   "metadata": {},
   "outputs": [
    {
     "name": "stdout",
     "output_type": "stream",
     "text": [
      "[104, 102, 118, 102, 106, 104, 97, 115, 101, 118, 102, 118, 32]\n"
     ]
    }
   ],
   "source": [
    "# 10\n",
    "text = list(input())\n",
    "ord_numbers = []\n",
    "\n",
    "for letter in text:\n",
    "  ord_numbers.append(ord(letter))\n",
    "\n",
    "print(ord_numbers)"
   ]
  }
 ],
 "metadata": {
  "kernelspec": {
   "display_name": "Python 3",
   "language": "python",
   "name": "python3"
  },
  "language_info": {
   "codemirror_mode": {
    "name": "ipython",
    "version": 3
   },
   "file_extension": ".py",
   "mimetype": "text/x-python",
   "name": "python",
   "nbconvert_exporter": "python",
   "pygments_lexer": "ipython3",
   "version": "3.10.4"
  }
 },
 "nbformat": 4,
 "nbformat_minor": 2
}
