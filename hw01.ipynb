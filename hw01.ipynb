{
 "cells": [
  {
   "cell_type": "code",
   "execution_count": 10,
   "metadata": {},
   "outputs": [
    {
     "name": "stdout",
     "output_type": "stream",
     "text": [
      "72\n",
      "55\n"
     ]
    }
   ],
   "source": [
    "# Задача 1: Дано некоторое многозначное число. Найдите сумму его цифр.\n",
    "\n",
    "some_str = '24059817534204945' # если дана строка из цифр\n",
    "sum_01 = 0\n",
    "\n",
    "for i in some_str:\n",
    "  sum_01 += int(i)\n",
    "print(sum_01)\n",
    "\n",
    "some_num = 0.3920117629465 # если дано число\n",
    "sum_11 = 0\n",
    "str_f_num = str(some_num).replace('.','')\n",
    "\n",
    "for i in str_f_num:\n",
    "  sum_11 += int(i)\n",
    "print(sum_11)"
   ]
  },
  {
   "cell_type": "code",
   "execution_count": 15,
   "metadata": {},
   "outputs": [
    {
     "name": "stdout",
     "output_type": "stream",
     "text": [
      "Сумма вклада на конец года 157610 рублей 26 копеек 157610.25723207212\n"
     ]
    }
   ],
   "source": [
    "# Задача 2: Расчет сумма вклада\n",
    "\n",
    "percent = int(input(\"Введите годовую процентную ставку: \")) / 100\n",
    "deposit = int(input(\"Введите сумму вклада в рублях (целую часть): \")) + int(input(\"Введите сумму копеек: \")) / 100\n",
    "\n",
    "f = deposit * (1 + percent / 365) ** 365 # при ежедневной капитализации\n",
    "print(f\"Сумма вклада на конец года {int(f)} рублей {str(round(f,2))[-2:]} копеек\")"
   ]
  },
  {
   "cell_type": "code",
   "execution_count": 57,
   "metadata": {},
   "outputs": [
    {
     "name": "stdout",
     "output_type": "stream",
     "text": [
      "кок прашло встричо\n"
     ]
    }
   ],
   "source": [
    "# Задача 3: Шифрование сообщения посредством замены гласных\n",
    "\n",
    "message = input(\"Введите сообщение: \")\n",
    "edit_message = ''\n",
    "\n",
    "def create_list_indices(text, letter):\n",
    "    list_indices = []\n",
    "    for i in range(len(text)):\n",
    "        if text[i] == letter:\n",
    "          list_indices.append(i)\n",
    "    return list_indices\n",
    "\n",
    "first_letter_indices = create_list_indices(message, 'а')\n",
    "second_letter_indices = create_list_indices(message, 'е')\n",
    "third_letter_indices = create_list_indices(message, 'о')\n",
    "fourth_letter_indices = create_list_indices(message, 'и')\n",
    "\n",
    "message_to_list = []\n",
    "message_to_list = [symbol for symbol in message]\n",
    "\n",
    "def encrypt_message(letter_indices, list_symbols, new_letter):\n",
    "  for j in range(len(letter_indices)):\n",
    "    list_symbols[letter_indices[j]] = new_letter\n",
    "  return list_symbols\n",
    "\n",
    "encrypt_message(first_letter_indices, message_to_list, 'о')\n",
    "encrypt_message(second_letter_indices, message_to_list, 'и')\n",
    "encrypt_message(third_letter_indices, message_to_list, 'а')\n",
    "encrypt_message(fourth_letter_indices, message_to_list, 'е')\n",
    "\n",
    "for k in range(len(message_to_list)):\n",
    "   edit_message += message_to_list[k]\n",
    "\n",
    "print(edit_message)"
   ]
  },
  {
   "cell_type": "code",
   "execution_count": 62,
   "metadata": {},
   "outputs": [
    {
     "name": "stdout",
     "output_type": "stream",
     "text": [
      "####\n",
      "....\n",
      "\n"
     ]
    }
   ],
   "source": [
    "# Задача 4: Числа-зебры\n",
    "\n",
    "n = int(input('Введите количество полосок: '))\n",
    "black = '####'\n",
    "white = '....'\n",
    "zebra = ''\n",
    "\n",
    "for i in range(n):\n",
    "  zebra += white if i % 2 else black\n",
    "  zebra += '\\n'\n",
    "print(zebra)"
   ]
  },
  {
   "cell_type": "code",
   "execution_count": 61,
   "metadata": {},
   "outputs": [
    {
     "name": "stdout",
     "output_type": "stream",
     "text": [
      "Введите числовое значение!\n"
     ]
    }
   ],
   "source": [
    "# Задача 5: Обработка ошибок при делении\n",
    "\n",
    "try:\n",
    "  divident = input('Введите делитель: ')\n",
    "  divisor = input('Введите делимое: ')\n",
    "  result = int(divident) / int(divisor)\n",
    "  print(result)\n",
    "except ZeroDivisionError:\n",
    "  print('Деление на ноль невозможно!')\n",
    "except ValueError:\n",
    "  print('Введите числовое значение!')\n",
    "except:\n",
    "  print('Программа завершена.')"
   ]
  },
  {
   "cell_type": "code",
   "execution_count": 65,
   "metadata": {},
   "outputs": [
    {
     "name": "stdout",
     "output_type": "stream",
     "text": [
      "55\n"
     ]
    }
   ],
   "source": [
    "# Задача 6:\n",
    "# Числа Фибоначчи (простые). Вводится целое число: с помощью формулы выведите число Фибоначчи с этим номером.\n",
    "\n",
    "n = int(input('Введите порядковый номер числа Фибоначчи: '))\n",
    "\n",
    "fibonacci_number = ((1 + 5 ** 0.5) ** n - (1 - 5 ** 0.5) ** n) / (2 ** n * 5 ** 0.5) # по формуле Бине\n",
    "print(round(fibonacci_number))"
   ]
  },
  {
   "cell_type": "code",
   "execution_count": 66,
   "metadata": {},
   "outputs": [
    {
     "name": "stdout",
     "output_type": "stream",
     "text": [
      "08:15:27\n"
     ]
    }
   ],
   "source": [
    "# Задача 7. Напишите программу, которая на вход принимает число секунд и возвращает его в часах, минутах и секундах в формате HH:MM:SS.\n",
    "\n",
    "input_seconds = int(input('Введите число секунд: '))\n",
    "\n",
    "def edit_time(int_value):\n",
    "  return '0' + str(int_value) if int_value < 10 else str(int_value)\n",
    "\n",
    "def get_time_string(seconds):\n",
    "  hh = seconds // 60 ** 2\n",
    "  hh_24 = hh if hh < 24 else hh % 24\n",
    "  mm = seconds % 60 ** 2 // 60\n",
    "  ss = seconds % 60 ** 2 % 60\n",
    "  return f\"{edit_time(hh_24)}:{edit_time(mm)}:{edit_time(ss)}\"\n",
    "\n",
    "print(get_time_string(input_seconds))"
   ]
  }
 ],
 "metadata": {
  "kernelspec": {
   "display_name": "Python 3",
   "language": "python",
   "name": "python3"
  },
  "language_info": {
   "codemirror_mode": {
    "name": "ipython",
    "version": 3
   },
   "file_extension": ".py",
   "mimetype": "text/x-python",
   "name": "python",
   "nbconvert_exporter": "python",
   "pygments_lexer": "ipython3",
   "version": "3.10.4"
  }
 },
 "nbformat": 4,
 "nbformat_minor": 2
}
