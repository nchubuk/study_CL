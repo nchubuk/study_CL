{
 "cells": [
  {
   "cell_type": "markdown",
   "id": "6bad6b38-eca0-4cfc-ac6a-2723a3cbb50a",
   "metadata": {},
   "source": [
    "#### Задача 1. \n",
    "\n",
    "Ученики одной школы все знают хотя бы по одному языку. Программа получает число школьников, а потом в цикле for собирает сведения о их языках, н-р:\n",
    "\n",
    "    2\n",
    "    English Bulgarian\n",
    "    English Romanian\n",
    "    \n",
    "Нужно узнать, какие языки знает хотя бы один школьник и какие языки знают все школьники."
   ]
  },
  {
   "cell_type": "code",
   "execution_count": 2,
   "id": "660eafc9-7667-441a-954e-a3617941bdfd",
   "metadata": {},
   "outputs": [
    {
     "name": "stdout",
     "output_type": "stream",
     "text": [
      "Ученики знают следующие языки: \n",
      "English\n",
      "Korean\n",
      "Chinese\n",
      "Russian\n",
      "Turkish\n",
      "French\n",
      "German\n",
      "Каждый из учеников знает:  Chinese\n"
     ]
    }
   ],
   "source": [
    "n = int(input())\n",
    "languages_know = [set(input(f\"Введите через пробел языки, который знает ученик {i}\").split()) for i in range(1, n + 1)]\n",
    "\n",
    "languages = {i for j in languages_know for i in j}\n",
    "result = languages_know[0]\n",
    "for i in range(1, len(languages_know)):\n",
    "    result &= languages_know[i]\n",
    "\n",
    "print(\"Ученики знают следующие языки: \", *languages, sep='\\n')\n",
    "print(\"Каждый из учеников знает: \", *result) if result else print(\"Нет языка, который бы знал каждый\")"
   ]
  },
  {
   "cell_type": "markdown",
   "id": "359818d1-46c4-43c1-b9c6-719cd83c06a7",
   "metadata": {},
   "source": [
    "#### Задача 2. \n",
    "\n",
    "Напишите функцию, которая будет принимать строку, в которой содержится любой текст (положим, русскоязычный), и возвращать список, содержащий только слова (для удаления пунктуации можно воспользоваться punctuation из модуля string, если хочется). Если умеете пользоваться регулярками - можно использовать регулярки. \n",
    "\n",
    "Посчитайте частотный список слов для текста в этой строке. "
   ]
  },
  {
   "cell_type": "code",
   "execution_count": null,
   "id": "37a6a911-03c9-4fdb-960e-644cfbf55a13",
   "metadata": {},
   "outputs": [],
   "source": [
    "import string\n",
    "from collections import Counter\n",
    "\n",
    "get_words = lambda text: [word.strip(string.punctuation) for word in text.split()]\n",
    "\n",
    "def freq_list(text):\n",
    "    return Counter(get_words(text))\n",
    "\n",
    "some_text = input(\"Введите текст/предложение: \").lower()\n",
    "print(\"Частотный список: \\n\")\n",
    "for i, x in freq_list(some_text).items():\n",
    "    print(i, x)"
   ]
  },
  {
   "cell_type": "markdown",
   "id": "552bc43b-804b-41d3-a482-35ad54f36e06",
   "metadata": {},
   "source": [
    "#### Задача 3. \n",
    "\n",
    "Положим, у нас есть список со вложенными списками (глубина вложенности может быть какая угодно: это может быть список списков списков...). Напишите функцию, которая будет рекурсивно обходить все элементы в этих списках и посчитает, сколько всего встретилось уникальных элементов. Считаем, что эти элементы - целые числа (вам понадобится проверять type(x) == int). "
   ]
  },
  {
   "cell_type": "code",
   "execution_count": 3,
   "id": "e2059e5b-4491-412f-be9f-ebf3192278d9",
   "metadata": {},
   "outputs": [
    {
     "data": {
      "text/plain": [
       "7"
      ]
     },
     "execution_count": 3,
     "metadata": {},
     "output_type": "execute_result"
    }
   ],
   "source": [
    "def get_flat(lists):\n",
    "    if lists == []:\n",
    "        return lists\n",
    "    if type(lists[0]) == list:\n",
    "        return get_flat(lists[0]) + get_flat(lists[1:])\n",
    "    return lists[:1] + get_flat(lists[1:])\n",
    "\n",
    "test_list3 = [[[1, 2], [3]], [['5', 7], ['7', 8]]]\n",
    "\n",
    "len(set(get_flat(test_list3)))"
   ]
  },
  {
   "cell_type": "markdown",
   "id": "be46c202-8887-4cdb-a6c2-acd40c86403f",
   "metadata": {},
   "source": [
    "#### Задача 4. \n",
    "\n",
    "Напишите функцию для сложения матриц."
   ]
  },
  {
   "cell_type": "code",
   "execution_count": 6,
   "id": "c5043381-10a6-4562-860c-0ff22d51c0db",
   "metadata": {},
   "outputs": [
    {
     "name": "stdout",
     "output_type": "stream",
     "text": [
      "33\t83\t64\n",
      "0\t7\t30\n",
      "108\t54\t76\n",
      "-84\t18\t82\n"
     ]
    }
   ],
   "source": [
    "def add_mtx(A, B):\n",
    "    if len(A) == len(B) and len(A[0]) == len(B[0]):\n",
    "        return [[A[row][col] + B[row][col] for col in range(len(A[0]))] for row in range(len(A))]\n",
    "    else:\n",
    "        print(\"Складывать допускается только матрицы одинаковой размерности\")\n",
    "\n",
    "A = [[23, 76, 2], [3, 0, 11], [109, 5, 84], [-99, 7, 6]]\n",
    "B = [[10, 7, 62], [-3, 7, 19], [-1, 49, -8], [15, 11, 76]]\n",
    "for r in add_mtx(A, B):\n",
    "    print(*r, sep='\\t')"
   ]
  },
  {
   "cell_type": "markdown",
   "id": "10fcf684-2ee1-4342-9c0a-1c959a473320",
   "metadata": {},
   "source": [
    "#### Задача 5. \n",
    "\n",
    "Напишите функцию для умножения матриц."
   ]
  },
  {
   "cell_type": "code",
   "execution_count": 9,
   "id": "8b95b0a2-93c8-4a76-9795-9702a584aa94",
   "metadata": {},
   "outputs": [
    {
     "data": {
      "text/plain": [
       "array([[ 21,  37],\n",
       "       [ 77, 117]])"
      ]
     },
     "execution_count": 9,
     "metadata": {},
     "output_type": "execute_result"
    }
   ],
   "source": [
    "import numpy as np\n",
    "\n",
    "C = np.array([[0, 2, 7], [4, 6, 15]])\n",
    "D = np.array([[5, 6], [7, 8], [1, 3]])\n",
    "\n",
    "np.matmul(C, D)"
   ]
  },
  {
   "cell_type": "markdown",
   "id": "1f145040-6a4e-44e5-a0f0-99d76a8f5413",
   "metadata": {},
   "source": [
    "#### Задача 6. \n",
    "\n",
    "Напишите функцию, которая генерирует [матрицу сдвига](https://ru.wikipedia.org/wiki/%D0%9C%D0%B0%D1%82%D1%80%D0%B8%D1%86%D0%B0_%D1%81%D0%B4%D0%B2%D0%B8%D0%B3%D0%B0). У функции должно быть два параметра: n (размер матрицы) и bias (на сколько столбцов сдвигать)."
   ]
  },
  {
   "cell_type": "code",
   "execution_count": 7,
   "id": "4ba92bad-1317-443f-b737-41ee396c4c7e",
   "metadata": {},
   "outputs": [
    {
     "name": "stdout",
     "output_type": "stream",
     "text": [
      "0\t0\t0\n",
      "1\t0\t0\n",
      "0\t1\t0\n"
     ]
    }
   ],
   "source": [
    "def get_shift_mtx(m, bias):\n",
    "    mtx = []\n",
    "    for ri in range(m):\n",
    "        row = []\n",
    "        for ci in range(m):\n",
    "            if ci == bias:\n",
    "                row.append(1)\n",
    "            else:\n",
    "                row.append(0)\n",
    "        mtx.append(row)\n",
    "        bias += 1\n",
    "    return mtx\n",
    "\n",
    "m = int(input(\"Введите размер бинарной матрицы: \"))\n",
    "bias = int(input('''Введите числовой параметр сдвига (кол-во столбцов)\n",
    "                 отрицательное значение вернет 1 в поддиагонали: '''))\n",
    "\n",
    "for row in get_shift_mtx(m, bias):\n",
    "    print(*row, sep='\\t')"
   ]
  },
  {
   "cell_type": "markdown",
   "id": "bbe7efcb-ae28-40ad-935e-b7f231207779",
   "metadata": {},
   "source": [
    "#### Задача 7. \n",
    "\n",
    "Напишите функцию transpose(m), которая будет транспонировать матрицу."
   ]
  },
  {
   "cell_type": "code",
   "execution_count": 8,
   "id": "445846ac-fe77-40f3-92cc-d3e5f719a47e",
   "metadata": {},
   "outputs": [
    {
     "name": "stdout",
     "output_type": "stream",
     "text": [
      "7\t2\t0\n",
      "8\t5\t9\n",
      "3\t1\t6\n",
      "-4\t8\t0\n"
     ]
    }
   ],
   "source": [
    "def transpone(m):\n",
    "    tr_m = []\n",
    "    for i in range(len(m[0])):\n",
    "        row = []\n",
    "        for j in range(len(m)):\n",
    "            row.append(m[j][i])\n",
    "        tr_m.append(row)\n",
    "    return tr_m\n",
    "\n",
    "test_mtx = [[7, 8, 3, -4], [2, 5, 1, 8], [0, 9, 6, 0]]\n",
    "for r in transpone(test_mtx):\n",
    "    print(*r, sep='\\t')"
   ]
  },
  {
   "cell_type": "markdown",
   "id": "5bc74489-65ad-4854-a223-d22b2fd6e64d",
   "metadata": {},
   "source": [
    "#### Задача 8 (\\*). \n",
    "\n",
    "Жизнь. Напишите игру \"Жизнь\". Что это такое - читайте в википедии и здесь: http://www.michurin.net/online-tools/life-game.html \n",
    "\n",
    "Вообще говоря, это не игра в привычном понимании этого слова, а процесс. В простейшем виде достаточно раз в 0.1 секунды выводить на экран обновлённое поле (обновлять консоль можно с помощью команды os.clear('cls'), модуль os. Для macOS может немного отличаться, погуглите). Для рамочек можно использовать специальные символы для рисования рамочек (найдите в таблице unicode). Пробел - пустая клетка, живая клетка может быть обозначена, например, символом '+'. Начальное поле генерируется случайным образом, вероятность появления жизни в клетке при начальной генерации - должна быть настраиваемым параметром. Размеры поля вводит пользователь при запуске программы. Также должна быть возможность в качестве начальной популяции использовать [R-pentomino](http://www.conwaylife.com/wiki/R-pentomino)."
   ]
  },
  {
   "cell_type": "code",
   "execution_count": null,
   "id": "fbd943ec-39aa-4129-9a60-c5b13f43234c",
   "metadata": {},
   "outputs": [],
   "source": [
    "# your code here"
   ]
  },
  {
   "cell_type": "markdown",
   "id": "a52faff1-12e5-4ae9-97d2-698f9862e58a",
   "metadata": {},
   "source": [
    "#### Задача 9. \n",
    "\n",
    "Рекурсивная генерация последовательностей На вход программе задается два числа N и K. Напечатайте все последовательности длины N, на каждом месте в последовательности может стоять любое число от 1 до K, но нигде подряд не стоит двух одинаковых чисел. Программа должна напечатать все такие последовательности в лексикографическом порядке. Каждая последовательность должна быть напечатана на отдельной строке. Числа в последовательности должны разделяться пробелами.\n",
    "\n",
    "Пример входных данных:\n",
    "\n",
    "    4 3\n",
    "\n",
    "Пример выходных данных:\n",
    "\n",
    "    1 2 1 2\n",
    "    1 2 1 3\n",
    "    1 2 3 1\n",
    "    1 2 3 2\n",
    "    1 3 1 2\n",
    "    1 3 1 3\n",
    "    1 3 2 1\n",
    "    1 3 2 3\n",
    "    2 1 2 1\n",
    "    2 1 2 3\n",
    "    2 1 3 1\n",
    "    2 1 3 2\n",
    "    2 3 1 2\n",
    "    2 3 1 3\n",
    "    2 3 2 1\n",
    "    2 3 2 3\n",
    "    3 1 2 1\n",
    "    3 1 2 3\n",
    "    3 1 3 1\n",
    "    3 1 3 2\n",
    "    3 2 1 2\n",
    "    3 2 1 3\n",
    "    3 2 3 1\n",
    "    3 2 3 2"
   ]
  },
  {
   "cell_type": "code",
   "execution_count": null,
   "id": "6bf0d84f-a7e1-4749-af82-2e7cc0a93a51",
   "metadata": {},
   "outputs": [],
   "source": [
    "# your code here"
   ]
  }
 ],
 "metadata": {
  "kernelspec": {
   "display_name": "Python 3",
   "language": "python",
   "name": "python3"
  },
  "language_info": {
   "codemirror_mode": {
    "name": "ipython",
    "version": 3
   },
   "file_extension": ".py",
   "mimetype": "text/x-python",
   "name": "python",
   "nbconvert_exporter": "python",
   "pygments_lexer": "ipython3",
   "version": "3.13.0"
  }
 },
 "nbformat": 4,
 "nbformat_minor": 5
}
