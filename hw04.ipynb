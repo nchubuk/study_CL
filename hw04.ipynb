{
 "cells": [
  {
   "cell_type": "markdown",
   "id": "e7fd4f2d-fa5c-4975-aee1-dbd36df06161",
   "metadata": {
    "id": "e7fd4f2d-fa5c-4975-aee1-dbd36df06161",
    "tags": []
   },
   "source": [
    "#### Задача 1.\n",
    "\n",
    "Соберем свой математический модуль:\n",
    "\n",
    "- напишите функции для вычисления формул, собранных [здесь](http://mathprofi.ru/formuly_kombinatoriki.pdf): нас интересуют сам факториал и формулы количества. Сохраните это все в модуле combinatorics.py.\n",
    "- напишите функции для вычисления площадей геометрических фигур: прямоугольника, квадрата, треугольника и шара. Сохраните их в файл areas.py.\n",
    "- положите оба файла в папку с именем вашего модуля. Создайте файл \\_\\_init\\_\\_.py.\n",
    "- импортируйте все написанные модули в новый файл py, в котором пользователю будет предлагаться выбрать, нужна ли ему комбинаторика или геометрия, и потом какая функция ему нужна.\n",
    "- при запуске одного из подмодулей combinatorics & areas самих по себе должно вылезать предупреждение о том, что нужно запустить головной файл (с выбором).\n",
    "- при импортировании\n",
    "\n",
    "        from <my math> import *\n",
    "        \n",
    "    должны импортироваться оба подмодуля."
   ]
  },
  {
   "cell_type": "code",
   "execution_count": 4,
   "id": "cacb15a6",
   "metadata": {},
   "outputs": [],
   "source": [
    "#"
   ]
  },
  {
   "cell_type": "markdown",
   "id": "ff5eb064-44a2-45c2-9647-97adae92346a",
   "metadata": {
    "id": "ff5eb064-44a2-45c2-9647-97adae92346a"
   },
   "source": [
    "#### Задача 2.\n",
    "\n",
    "Представьте, что проводится голосование за лучшее блюдо в школе. У вас есть результаты голосования, представленные в виде списка, где каждый элемент — это имя ученика и его голос (блюдо).\n",
    "\n",
    "Пример данных:\n",
    "\n",
    "    votes = [\n",
    "        (\"Анна\", \"Пицца\"),\n",
    "        (\"Олег\", \"Бургер\"),\n",
    "        (\"Мария\", \"Пицца\"),\n",
    "        (\"Алексей\", \"Паста\"),\n",
    "        (\"Ольга\", \"Бургер\"),\n",
    "        (\"Иван\", \"Пицца\"),\n",
    "        (\"Вика\", \"Паста\")\n",
    "    ]\n",
    "    \n",
    "Задание:\n",
    "\n",
    "1. Создайте функцию count_votes(votes), которая принимает список голосов и возвращает словарь, где ключом является название блюда, а значением — количество голосов за него.\n",
    "2. Добавьте в функцию возможность находить блюдо-победитель — то, которое набрало наибольшее количество голосов.\n",
    "3. Если несколько блюд набрали одинаковое количество голосов, выведите их все.\n",
    "\n",
    "Пример вывода:\n",
    "\n",
    "    {\n",
    "        \"Пицца\": 3,\n",
    "        \"Бургер\": 2,\n",
    "        \"Паста\": 2\n",
    "    }\n",
    "    Блюда-победители: Пицца"
   ]
  },
  {
   "cell_type": "code",
   "execution_count": 1,
   "id": "TE0OagE_-uXn",
   "metadata": {
    "id": "TE0OagE_-uXn"
   },
   "outputs": [],
   "source": [
    "from collections import defaultdict, Counter"
   ]
  },
  {
   "cell_type": "code",
   "execution_count": 2,
   "id": "fRGJTVKhKQmF",
   "metadata": {
    "id": "fRGJTVKhKQmF"
   },
   "outputs": [],
   "source": [
    "def count_votes(votes):\n",
    "  dict_votes = Counter([votes[i][1] for i in range(len(votes))])\n",
    "  winners = [k for k, v in dict_votes.items() if v == max(dict_votes.values())]\n",
    "  print(dict(dict_votes))\n",
    "  print(\"Блюда-победители: \", *winners) # TODO: добавить сепаратор для красоты вывода\n",
    "\n",
    "# альтернативное формирование словаря с defaultdict\n",
    "# dict_votes = defaultdict(int)\n",
    "# for i in range(len(votes)):\n",
    "#   dict_votes[votes[i][1]] += 1\n",
    "\n",
    "# альтернативное формирование словаря через обычный цикл\n",
    "# dict_votes = dict()\n",
    "# for elem in votes:\n",
    "#   if elem[1] in dict_votes:\n",
    "#     dict_votes[elem[1]] += 1\n",
    "#   else:\n",
    "#     dict_votes[elem[1]] = 1"
   ]
  },
  {
   "cell_type": "code",
   "execution_count": 5,
   "id": "hxMUQEhW_Tz8",
   "metadata": {
    "colab": {
     "base_uri": "https://localhost:8080/"
    },
    "executionInfo": {
     "elapsed": 381,
     "status": "ok",
     "timestamp": 1729457943431,
     "user": {
      "displayName": "Наталия Федорова",
      "userId": "07542168442705069017"
     },
     "user_tz": -180
    },
    "id": "hxMUQEhW_Tz8",
    "outputId": "46b5c041-f777-4c6f-db88-0112a34a24a9"
   },
   "outputs": [
    {
     "name": "stdout",
     "output_type": "stream",
     "text": [
      "{'Пицца': 3, 'Бургер': 2, 'Шаурма': 3, 'Паста': 2, 'Паста с базиликом': 1}\n",
      "Блюда-победители:  Пицца Шаурма\n"
     ]
    }
   ],
   "source": [
    "votes = [\n",
    "    (\"Анна\", \"Пицца\"),\n",
    "    (\"Олег\", \"Бургер\"),\n",
    "    (\"Мария\", \"Пицца\"),\n",
    "    (\"Марат\", \"Шаурма\"),\n",
    "    (\"Алексей\", \"Паста\"),\n",
    "    (\"Ольга\", \"Бургер\"),\n",
    "    (\"Иван\", \"Пицца\"),\n",
    "    (\"Вика\", \"Паста\"),\n",
    "    (\"Наташа\", \"Шаурма\"),\n",
    "    (\"Коля\", \"Шаурма\"),\n",
    "    (\"Иван\", \"Паста с базиликом\")\n",
    "]\n",
    "\n",
    "count_votes(votes)"
   ]
  },
  {
   "cell_type": "markdown",
   "id": "473d1984-286e-474f-9558-acb0ccfe8f09",
   "metadata": {
    "id": "473d1984-286e-474f-9558-acb0ccfe8f09"
   },
   "source": [
    "#### Задача 3.\n",
    "\n",
    "Вы разрабатываете простой переводчик для учеников младших классов. Вам нужно создать программу, которая будет переводить слова с английского на русский язык с использованием словаря.\n",
    "\n",
    "Задание:\n",
    "1. Создайте словарь, в котором ключами будут английские слова, а значениями — их переводы на русский.\n",
    "   \n",
    "   Пример словаря:\n",
    "  \n",
    "       translations = {\n",
    "           \"cat\": \"кот\",\n",
    "           \"dog\": \"собака\",\n",
    "           \"apple\": \"яблоко\",\n",
    "           \"book\": \"книга\",\n",
    "           \"sun\": \"солнце\"\n",
    "       }\n",
    "   \n",
    "2. Напишите функцию translate_word(word, dictionary), которая принимает английское слово и словарь переводов, и возвращает перевод этого слова на русский. Если слово не найдено, возвращайте сообщение: \"Перевод не найден\".\n",
    "   \n",
    "3. Дополнительно: сделайте программу интерактивной, чтобы пользователь мог вводить английские слова и получать переводы до тех пор, пока он не введет команду \"exit\".\n",
    "\n",
    "Пример работы программы:\n",
    "\n",
    "    Введите слово для перевода: cat\n",
    "    Перевод: кот\n",
    "\n",
    "    Введите слово для перевода: banana\n",
    "    Перевод не найден\n",
    "\n",
    "    Введите слово для перевода: exit\n",
    "    Программа завершена.\n",
    "    \n",
    "Добавьте возможность расширять словарь, предлагая пользователю вводить новые слова и их переводы, если слово не было найдено."
   ]
  },
  {
   "cell_type": "code",
   "execution_count": null,
   "id": "21_ZnuGpsyEh",
   "metadata": {
    "id": "21_ZnuGpsyEh"
   },
   "outputs": [],
   "source": [
    "import re\n",
    "\n",
    "def translate_word(word, dictionary):\n",
    "  try:\n",
    "    return dictionary[word]\n",
    "  except KeyError:\n",
    "    return \"Перевод не найден\"\n",
    "  \n",
    "def add_new_word(word, translation, dictionary):\n",
    "  if len(re.findall(r'\\b[A-Za-z]+\\b', word)) != len(word.split()):\n",
    "    return print(\"Новое английское слово должно быть на латинице!\")\n",
    "  elif len(re.findall(r'\\b[А-Яа-яЁё-]+\\b', translation)) != len(translation.split()):\n",
    "    return print(\"Перевод должен состоять из кириллических символов\")\n",
    "  dictionary[word] = translation\n",
    "  print(f\"Словарь успешно пополнен: {word} - {translation}\")"
   ]
  },
  {
   "cell_type": "code",
   "execution_count": 71,
   "id": "5Lu3pzddYAIg",
   "metadata": {
    "id": "5Lu3pzddYAIg"
   },
   "outputs": [],
   "source": [
    "import json\n",
    "\n",
    "data = []\n",
    "with open('JSONdict.json', 'r', encoding='utf8') as file:\n",
    "  for line in file:\n",
    "    data.append(json.loads(line))\n",
    "\n",
    "my_dict = dict()\n",
    "for i in range(len(data[0])): # 86060\n",
    "  my_dict[data[0][i]['word']] = data[0][i]['translates'][0]"
   ]
  },
  {
   "cell_type": "markdown",
   "id": "KOZrSzkzjibT",
   "metadata": {
    "id": "KOZrSzkzjibT"
   },
   "source": [
    "*комментарий: файл загружен с гугл-диска по [наводке](https://ru.stackoverflow.com/questions/767440/%D0%93%D0%B4%D0%B5-%D0%B2%D0%B7%D1%8F%D1%82%D1%8C-%D0%B1%D0%B0%D0%B7%D1%83-%D1%81%D0%BB%D0%BE%D0%B2-%D0%B4%D0%BB%D1%8F-%D0%A0%D1%83%D1%81%D1%81%D0%BA%D0%BE-%D0%90%D0%BD%D0%B3%D0%BB%D0%B8%D0%B9%D1%81%D0%BA%D0%BE%D0%B3%D0%BE-%D1%81%D0%BB%D0%BE%D0%B2%D0%B0%D1%80%D1%8F) активных пользователей stackoverflow*"
   ]
  },
  {
   "cell_type": "code",
   "execution_count": 72,
   "id": "i6zf0VsNk0yV",
   "metadata": {
    "colab": {
     "base_uri": "https://localhost:8080/"
    },
    "executionInfo": {
     "elapsed": 21194,
     "status": "ok",
     "timestamp": 1729456097443,
     "user": {
      "displayName": "Наталия Федорова",
      "userId": "07542168442705069017"
     },
     "user_tz": -180
    },
    "id": "i6zf0VsNk0yV",
    "outputId": "814d6a6b-239d-4804-9acb-ac7ebb314bc5"
   },
   "outputs": [
    {
     "name": "stdout",
     "output_type": "stream",
     "text": [
      "Перевод не найден. Введите Y, если хотите добавить это слово в словарь, в ином случае укажите - N\n",
      "последовательность\n",
      "Перевод не найден. Введите Y, если хотите добавить это слово в словарь, в ином случае укажите - N\n",
      "признание\n",
      "резюме\n",
      "лемма\n",
      "Перевод не найден. Введите Y, если хотите добавить это слово в словарь, в ином случае укажите - N\n",
      "Словарь успешно пополнен: adorkable - обаятельно неловкий\n",
      "Перевод не найден. Введите Y, если хотите добавить это слово в словарь, в ином случае укажите - N\n",
      "Новое английское слово должно быть на латинице!\n",
      "соответствие\n",
      "Программа завершена.\n"
     ]
    }
   ],
   "source": [
    "while True:\n",
    "  word = input(\"Введите слово для перевода: \")\n",
    "  if word == 'exit':\n",
    "    print(\"Программа завершена.\")\n",
    "    break\n",
    "  r = translate_word(word, my_dict)\n",
    "  if r == \"Перевод не найден\":\n",
    "    print(f\"{r}. Введите Y, если хотите добавить это слово в словарь, в ином случае укажите - N\")\n",
    "    choice = input()\n",
    "    if choice == 'Y':\n",
    "      translation = input(\"Введите перевод для него: \")\n",
    "      add_new_word(word, translation, my_dict)\n",
    "  else: print(r)\n"
   ]
  },
  {
   "cell_type": "markdown",
   "id": "f823e744-3dcb-407a-9423-513338f58a31",
   "metadata": {
    "id": "f823e744-3dcb-407a-9423-513338f58a31"
   },
   "source": [
    "#### Задача 4.\n",
    "\n",
    "Представьте, что вы разработчик, который помогает организовать файлы на компьютере. Ваша задача — написать программу, которая просматривает указанную директорию и сортирует все файлы по их расширениям, создавая соответствующие папки.\n",
    "\n",
    "Задание:\n",
    "\n",
    "1. Напишите программу, которая принимает путь к директории и проверяет, существуют ли там поддиректории для каждого типа файлов (например, images для картинок, documents для документов и т.д.).\n",
    "2. Если такие поддиректории не существуют, программа должна их создать.\n",
    "3. Программа должна переместить файлы с указанными расширениями в соответствующие папки. Например:\n",
    "\n",
    "   - .jpg, .png, .gif → в папку images\n",
    "   - .txt, .pdf, .docx → в папку documents\n",
    "   - .mp3, .wav → в папку audio\n",
    "   - Все неизвестные типы файлов поместить в папку others.\n",
    "\n",
    "4. Используйте модуль os для работы с файловой системой и модуль shutil для перемещения файлов.\n",
    "5. Добавьте возможность удалять пустые папки после сортировки.\n",
    "6. (Необязательное, на бонусный балл) Сделайте программу интерактивной, позволяя пользователю вводить пути к директории через консоль. Для этого понадобится изучить библиотеку argparse."
   ]
  },
  {
   "cell_type": "code",
   "execution_count": 39,
   "id": "3nCehg4-_u1J",
   "metadata": {
    "executionInfo": {
     "elapsed": 420,
     "status": "ok",
     "timestamp": 1729535772045,
     "user": {
      "displayName": "Наталия Федорова",
      "userId": "07542168442705069017"
     },
     "user_tz": -180
    },
    "id": "3nCehg4-_u1J"
   },
   "outputs": [],
   "source": [
    "# TODO: Добавить интерактивность (argparse)\n",
    "import os\n",
    "import shutil\n",
    "import re\n",
    "\n",
    "def organize(path_dir, dictionary):\n",
    "  if not os.path.exists(path_dir):\n",
    "    print(\"Указан неверный путь до директории\")\n",
    "  else:\n",
    "    dirs = [d for d in os.listdir(path_dir) if os.path.isdir(os.path.join(path_dir, d))]\n",
    "    for key in dictionary.keys():\n",
    "      if key not in dirs:\n",
    "        os.mkdir(os.path.join(path_dir, key))\n",
    "\n",
    "    files = [f for f in os.listdir(path_dir) if os.path.isfile(os.path.join(path_dir, f))]\n",
    "    for f in files:\n",
    "      destination = '' # требуется как буфер, если не найдено расширение (тогда в -> others)\n",
    "      for dir, exts in dictionary.items():\n",
    "        if re.search(r'\\.\\w+', f)[0] in exts: # альтернатива - os.path.splitext(f)[1]\n",
    "          destination = dir\n",
    "          shutil.copy(os.path.join(path_dir, f), os.path.join(path_dir, dir))\n",
    "          os.remove(os.path.join(path_dir, f))\n",
    "          break # если в словаре будут дублироваться расширения, то будет выбрана первая в итерации подходящая папка\n",
    "      if not destination:\n",
    "        shutil.copy(os.path.join(path_dir, f), os.path.join(path_dir, 'others'))\n",
    "        os.remove(os.path.join(path_dir, f))"
   ]
  },
  {
   "cell_type": "code",
   "execution_count": 52,
   "id": "94e397db",
   "metadata": {},
   "outputs": [],
   "source": [
    "def del_empty_folders(path_dir):\n",
    "    dirs = [d for d in os.listdir(path_dir) if os.path.isdir(os.path.join(path_dir, d))]\n",
    "    for d in dirs:\n",
    "        if not os.listdir(os.path.join(path_dir, d)):\n",
    "            os.rmdir(os.path.join(path_dir, d))"
   ]
  },
  {
   "cell_type": "code",
   "execution_count": 33,
   "id": "I26gRb4ayFJB",
   "metadata": {
    "executionInfo": {
     "elapsed": 577,
     "status": "ok",
     "timestamp": 1729535574322,
     "user": {
      "displayName": "Наталия Федорова",
      "userId": "07542168442705069017"
     },
     "user_tz": -180
    },
    "id": "I26gRb4ayFJB"
   },
   "outputs": [],
   "source": [
    "dir_dict = {\n",
    "    'images': ['.jpg', '.jpeg', '.png', '.gif'],\n",
    "    'video': ['.wav', '.mkv'],\n",
    "    'documents': ['.txt', '.pdf', '.docx', '.md'],\n",
    "    'books': ['.epub', '.fb2', '.djvu'],\n",
    "    'music': ['.mp3'],\n",
    "    'others': []\n",
    "}"
   ]
  },
  {
   "cell_type": "code",
   "execution_count": 53,
   "id": "R4PPWIHpRd0K",
   "metadata": {
    "executionInfo": {
     "elapsed": 391,
     "status": "ok",
     "timestamp": 1729535474870,
     "user": {
      "displayName": "Наталия Федорова",
      "userId": "07542168442705069017"
     },
     "user_tz": -180
    },
    "id": "R4PPWIHpRd0K"
   },
   "outputs": [],
   "source": [
    "path_test_nt = os.path.normpath(r'C:\\Users\\Nataliya\\Desktop\\trash')\n",
    "# path_test = '/content/mess'\n",
    "organize(path_test_nt, dir_dict)\n",
    "del_empty_folders(path_test_nt)"
   ]
  }
 ],
 "metadata": {
  "colab": {
   "collapsed_sections": [
    "e7fd4f2d-fa5c-4975-aee1-dbd36df06161"
   ],
   "provenance": []
  },
  "kernelspec": {
   "display_name": "Python 3",
   "language": "python",
   "name": "python3"
  },
  "language_info": {
   "codemirror_mode": {
    "name": "ipython",
    "version": 3
   },
   "file_extension": ".py",
   "mimetype": "text/x-python",
   "name": "python",
   "nbconvert_exporter": "python",
   "pygments_lexer": "ipython3",
   "version": "3.13.0"
  }
 },
 "nbformat": 4,
 "nbformat_minor": 5
}
